{
 "cells": [
  {
   "cell_type": "markdown",
   "metadata": {
    "id": "jdtaAwa8XzNA"
   },
   "source": [
    "# Estadística para Ciencia de los Datos\n",
    "# Tarea #1\n",
    "### Alumno: José Alberto Raygada Agüero\n"
   ]
  },
  {
   "cell_type": "markdown",
   "metadata": {
    "id": "b7yZKbBswGSC"
   },
   "source": [
    "Realice los siguientes ejercicios y envíe sus respuestas, en un notebook de google colab, a través de TEC Digital a más tardar el domingo 30 de enero a las 10:00 PM. No se aceptarán entregas tardías.\n",
    "\n",
    "Desarrolle todos los ejercicios con el mayor nivel de detalle posible. Se espera que el desarrollo algebraico sea formal. No será válido únicamente dar respuestas en prosa a las preguntas.\n",
    "\n",
    "Para la parte 1 de la tarea es válido entregar las respuestas  como un archivo PDF que sea un escaneo de la solución en papel de los ejercicios. Los estudiantes son responsables por asegurar que el archivo enviado sea legible.\n",
    "\n",
    "Para la parte 2 de la tarea se espera que el código pueda ejecutarse con visualizaciones apropiadas, sino no se asignará puntaje."
   ]
  },
  {
   "cell_type": "markdown",
   "metadata": {
    "id": "5e6Nc6WZTTmc"
   },
   "source": [
    "## Parte 1\n",
    "\n",
    "1.   Una agencia de bienes raíces tiene una base de datos de propiedades vendidas en la cuál rastrearon la cantidad de días que duró en concretarse la venta, además de su precio de venta (ver tabla). Basado en los datos responda los siguientes apartados. Responda todos los puntos utilizando ecuaciones únicamente.\n",
    "\n",
    " * Si $A$ es el evento de vender una casa en más de 90 días, estime la probabilidad de $A$ (5 puntos)\n",
    " * Si $B$ es el evento de vender una casa en menos de 50,000, estime la probablidad de $B$ (5 puntos)\n",
    " * ¿Cuál es la probabilidad de que $A$ y $B$ ocurran juntos? (5 puntos)\n",
    " * Si una casa se define que tiene un precio de menos de \\$50,000, ¿cuál es la probabilidad que tarde 90 o menos días en venderse? (5 puntos)\n",
    " * ¿Se puede considerar que los eventos $A$ y $B$ son independientes? (Demuéstrelo matemáticamente) (10 puntos)\n",
    "  \n",
    "|| Menos de 30 días | De 31 a 90 | Más de 90 | Total\n",
    "|--- | --- | --- | --- |---\n",
    "|**Menos de \\$50,000**|50|40|10|100\n",
    "|**50,000 a 99,999**|20|150|80|250\n",
    "|**100,000 a 149,999**|20|280|100|400\n",
    "|**Más de 150,000**|10|10|30|50\n",
    "|**Total**|100|480|220|800\n",
    "\n",
    "\n",
    "\n",
    "2.   Suponga que se desea analizar la relación entre tres variables aleatorias $X_{1},X_{2}$ y $X_{3}$, para las cuales se han recabado los siguientes arreglos de $N=3$ observaciones:\n",
    " * Calcule la varianza de cada variable aleatoria (muestre todos los pasos) (10 puntos)\n",
    " * Calcule la matriz de correlación de Pearson (muestre todos los pasos) (10 puntos)\n",
    "\n",
    "\\begin{equation}\n",
    "\\begin{array}{c}\n",
    "h_{1}=\\begin{bmatrix}3 & 15 & 21\\end{bmatrix}\\\\\n",
    "h_{2}=\\begin{bmatrix}1 & 5 & 6\\end{bmatrix}\\\\\n",
    "h_{3}=\\begin{bmatrix}13 & 7 & 3\\end{bmatrix}\n",
    "\\end{array}\n",
    "\\end{equation}"
   ]
  },
  {
   "cell_type": "markdown",
   "metadata": {
    "id": "chgbdVm7TbL-"
   },
   "source": [
    "# Parte 2\n",
    "\n",
    "1. Muestreo de estaturas. Los estudiantes deberán programar dos funciones para crear muestras de $N$ personas (observaciones) con una sola variable aleatoria: estatura. Para efectos prácticos, ambas funciones pueden retornar una simple lista con valores numéricos que representan la estatura en centímetros de diferentes personas. Para ambas funciones deberán mostrarse ejemplos de creación de muestras con al menos 100 observaciones y mostrarlas en un histograma. La cantidad de cubetas deberá limitarse a un máximo de 9. Las funciones a programar serán las siguientes:\n",
    "\n",
    "    * **Muestreo Uniforme**. Además de recibir la cantidad de observaciones a generar $N$, recibirá la estatura mínima y máxima  por parámetro. Por ejemplo, si se pide una distribución uniforme entre 150 y 168, las estaturas entre ese rango deberán ser igual de probables de muestrear. (5 puntos)\n",
    "    * **Muestreo Normal**. Además de recibir la cantidad de observaciones a generar $N$, recibirá la media y desviación estándar por parámetro. De esta forma, la función generará $N$ observaciones provenientes de una distribución Gaussiana con la media y desviación estándar recibidas. (5 puntos)\n",
    "  \n",
    "  \n",
    " "
   ]
  },
  {
   "cell_type": "code",
   "execution_count": 1,
   "metadata": {},
   "outputs": [
    {
     "name": "stdout",
     "output_type": "stream",
     "text": [
      "[161 167 154 156 150 164 166 154 165 166 158 163 153 158 152 154 167 156\n",
      " 160 167 162 150 166 158 152 152 164 150 151 151 163 150 162 152 165 162\n",
      " 165 152 157 161 159 150 155 158 163 166 158 162 154 152 151 155 163 151\n",
      " 160 167 161 152 156 165 155 152 152 157 163 153 159 152 155 155 152 159\n",
      " 167 161 160 159 166 164 155 156 157 156 164 158 166 155 157 150 166 153\n",
      " 162 165 152 155 151 164 165 158 158 150]\n"
     ]
    },
    {
     "data": {
      "image/png": "[encoded data removed]",
      "text/plain": [
       "<Figure size 432x288 with 1 Axes>"
      ]
     },
     "metadata": {
      "needs_background": "light"
     },
     "output_type": "display_data"
    }
   ],
   "source": [
    "# Se crea la función para la generación de muestras con distribución uniforme\n",
    "\n",
    "%matplotlib inline \n",
    "import numpy as np\n",
    "import matplotlib.pyplot as plt\n",
    "\n",
    "def muestra_uniforme(lim_inf, lim_sup, s_size: int, n_bins, print_opc: bool):\n",
    "    muestra = np.random.randint(lim_inf,lim_sup, s_size)\n",
    "    resultado = muestra    \n",
    "    #plt.hist(muestra, density=True, bins=9)\n",
    "    if print_opc:\n",
    "        # Creamos un histograma\n",
    "        n, bins, patches = plt.hist(muestra, n_bins) #facecolor='blue', alpha=0.7)\n",
    "        plt.ylabel('Probabilidad')\n",
    "        plt.xlabel('Estatura (cms)')\n",
    "        plt.title(\"Distribución Uniforme de Estaturas\")\n",
    "        print(muestra)\n",
    "    return resultado\n",
    "\n",
    "muestras = muestra_uniforme(150, 168, 100, 9, 1)"
   ]
  },
  {
   "cell_type": "code",
   "execution_count": 2,
   "metadata": {},
   "outputs": [
    {
     "name": "stdout",
     "output_type": "stream",
     "text": [
      "[145.38898972 162.44309702 161.47635995 167.93835208 179.54793945\n",
      " 144.80198553 200.1778772  164.44500739 147.7261143  140.44640278\n",
      " 141.66818039 151.23191011 171.98292841 148.17191097 133.11651214\n",
      " 149.52134844 151.21113379 171.6394263  150.18458159 142.99724145\n",
      " 155.43625405 146.01638552 158.6149466  144.87145426 163.05377222\n",
      " 161.65457369 170.14169752 158.25205151 155.7013955  178.51411723\n",
      " 143.47599926 161.8137032  167.83637583 157.88631539 166.5624715\n",
      " 166.95958052 142.3803454  155.7013758  172.79917893 172.86987129\n",
      " 135.48173736 161.8063797  175.79164678 154.03597537 159.20726094\n",
      " 154.74939103 181.19949172 180.06278434 147.41054803 153.86445309\n",
      " 159.81058942 177.99635211 152.84837497 184.81139092 192.28793836\n",
      " 144.33074466 149.82934823 153.08423174 173.90505817 169.56705329\n",
      " 157.59066864 151.27919541 166.48043536 175.30749868 139.65774474\n",
      " 140.21193394 139.66794093 134.61148934 175.18484661 175.90217936\n",
      " 169.04851855 139.82819818 175.50698018 164.35437208 154.8401431\n",
      " 135.42754618 150.09467435 131.97952431 140.99064256 183.82143811\n",
      " 178.19832974 153.4479932  160.45534958 168.35932113 168.85507009\n",
      " 181.49175849 149.52951635 193.7630537  139.63813591 120.26413331\n",
      " 136.62681488 161.98482088 168.68399436 160.84886076 154.43016361\n",
      " 170.75294694 163.48618462 176.30089483 144.35179186 147.77143678]\n"
     ]
    },
    {
     "data": {
      "image/png": "[encoded data removed]",
      "text/plain": [
       "<Figure size 432x288 with 1 Axes>"
      ]
     },
     "metadata": {
      "needs_background": "light"
     },
     "output_type": "display_data"
    }
   ],
   "source": [
    "# Se crea la función para la generación de muestras con distribución normal\n",
    "\n",
    "%matplotlib inline \n",
    "import numpy as np\n",
    "import matplotlib.pyplot as plt\n",
    "\n",
    "def muestra_gauss(mean, standev, s_size: int, n_bins, print_opc: bool):\n",
    "    muestra = np.random.normal(mean, standev, s_size)\n",
    "    resultado = muestra    \n",
    "    # Creamos un histograma\n",
    "    if print_opc:\n",
    "        print(muestra)\n",
    "        n, bins, patches = plt.hist(muestra, n_bins) #facecolor='blue', alpha=0.7)\n",
    "        plt.ylabel('Probabilidad')\n",
    "        plt.xlabel('Estatura (cms)')\n",
    "        plt.title(\"Distribución Normal de Estaturas\")\n",
    "    return resultado\n",
    "\n",
    "muestras = muestra_gauss(159, 15, 100, 9, 1)"
   ]
  },
  {
   "cell_type": "markdown",
   "metadata": {},
   "source": [
    "\n",
    "2. **Evaluación de la función de verosimilitud normal**. Deberán proveer una función que reciba una de las **muestras** del punto 1 y evalúe la probabilidad que esa muestra provenga de una distribución normal con parámetros $\\mu$ y $\\sigma$ (que deberán ser enviados a la función). Deberán mostrar ejemplos obtenidos bajo ambos esquemas de muestreo. Por ejemplo, si se crea una muestra normal centrada en $\\mu_1=177$ con $\\sigma_1=1$ y evaluamos la verosimilitud para $\\mu=176,\\sigma=3$ podría darnos una probabilidad alta. En contraposición, al crear una muestra uniforme entre $170$ y $180$ y evaluarla para esos mismos parámetros de verosimilitud, se esperaría que sea menos probable. Todo lo anterior debe reflejarse con ejemplos que muestren el correcto funcionamiento (10 puntos)\n"
   ]
  },
  {
   "cell_type": "markdown",
   "metadata": {},
   "source": [
    "\n",
    "\\begin{equation}\n",
    "p\\left(\\vec{h}|\\mu,\\sigma\\right)=\\prod_{n=1}^{M}\\mathcal{N}\\left(h_{n}|\\mu,\\sigma\\right)\n",
    "\\end{equation}\n",
    "\n"
   ]
  },
  {
   "cell_type": "code",
   "execution_count": 3,
   "metadata": {},
   "outputs": [
    {
     "name": "stdout",
     "output_type": "stream",
     "text": [
      "\n",
      "Evaluación de la prueba de verosimilitud para diferentes muestras:\n",
      "==================================================================\n",
      "\n",
      "Muestra Gaussiana con n = 100, µ1 = 177 y σ1 = 3 \n",
      "Evaluada con µ de 176 y σ de 3. Probabilidad: 5.764292325242338e-96\n",
      "------------------------------------------------------------------\n",
      "\n",
      "Muestra Uniforme con n = 100, entre 170 y 180\n",
      "Evaluada con µ de 176 y σ de 3. Probabilidad: 2.5709868522189873e-116\n",
      "------------------------------------------------------------------\n",
      "\n"
     ]
    }
   ],
   "source": [
    "# Función de verosimilitud normal\n",
    "\n",
    "import scipy.stats as stats\n",
    "\n",
    "def verosimilnorm(sample: list, mean, standev):\n",
    "    n = len(sample)\n",
    "    productoria = 0.0\n",
    "    for i in range(n):\n",
    "        if i == 0:\n",
    "            productoria = stats.norm.pdf(sample[0], loc=mean, scale=standev)\n",
    "        productoria = stats.norm.pdf(sample[i], loc=mean, scale=standev) * productoria\n",
    "    resultado = productoria / n\n",
    "    return resultado\n",
    "\n",
    "n = 100 # Tamaño de la muestra\n",
    "\n",
    "# Muestra Gaussina con n = 100, µ1 = 177 y σ1 = 1, evaluada con µ1 = 176 y σ1 = 3\n",
    "muestras = muestra_gauss(177, 1, n, 9, 0)\n",
    "mean = 176\n",
    "standev = 3\n",
    "resultado = verosimilnorm(muestras, mean, standev)\n",
    "\n",
    "print('\\nEvaluación de la prueba de verosimilitud para diferentes muestras:')\n",
    "print('==================================================================\\n')\n",
    "print(f'Muestra Gaussiana con n = {n}, µ1 = 177 y σ1 = {standev} ')\n",
    "print(f'Evaluada con µ de {mean} y σ de {standev}. Probabilidad: {resultado}')\n",
    "print('------------------------------------------------------------------\\n')\n",
    "\n",
    "# Muestra Uniforme con n = 100, entre 170 y 180, evaluada con µ1 = 176 y σ1 = 3\n",
    "muestras = muestra_uniforme(170, 180, n, 9, 0)\n",
    "mean = 176\n",
    "standev = 3\n",
    "resultado = verosimilnorm(muestras, mean, standev)\n",
    "\n",
    "print(f'Muestra Uniforme con n = {n}, entre 170 y 180')\n",
    "print(f'Evaluada con µ de 176 y σ de 3. Probabilidad: {resultado}')\n",
    "print('------------------------------------------------------------------\\n')\n"
   ]
  },
  {
   "cell_type": "markdown",
   "metadata": {},
   "source": [
    "##### Como se puede ver en el resultado de la aplicación de la función de verosimilitud (def verosimilnorm()), funciona adecuadamente ya que la evaluación, con un n = 100, de la muestra Normal es más probable que la de la muestra Uniforme, al ser evaluadas con µ de 176 y σ de 3."
   ]
  },
  {
   "cell_type": "markdown",
   "metadata": {},
   "source": [
    "3. ¿Qué problema ocurre con el cálculo de la función de verosimilitud cuando aumentamos la cantidad de observaciones en varios órdenes de magnitud? y ¿Cual sería una forma de solucionar este problema? Programe una función con la posible solución y anote como comentarios las respuestas a las dos preguntas anteriores. De igual forma muestre un ejemplo de como invocar esta función (10 puntos)"
   ]
  },
  {
   "cell_type": "code",
   "execution_count": 4,
   "metadata": {},
   "outputs": [
    {
     "name": "stdout",
     "output_type": "stream",
     "text": [
      "\n",
      "Evaluación de la prueba de verosimilitud para diferentes muestras:\n",
      "==================================================================\n",
      "\n",
      "Muestra Gaussiana con n = 1000, µ1 = 177 y σ1 = 3 \n",
      "Evaluada con µ de 176 y σ de 3. Probabilidad: 0.0\n",
      "------------------------------------------------------------------\n",
      "\n",
      "Muestra Uniforme con n = 1000, entre 170 y 180\n",
      "Evaluada con µ de 176 y σ de 3. Probabilidad: 0.0\n",
      "------------------------------------------------------------------\n",
      "\n"
     ]
    }
   ],
   "source": [
    "# ¿Qué problema ocurre con el cálculo de la función de verosimilitud cuando aumentamos la cantidad de \n",
    "# observaciones en varios órdenes de magnitud?\n",
    "\n",
    "# R/ Cuando apliqué la función con muestras de 100 elementos el resultado fue probabilidades muy bajas \n",
    "# pero cuando se sube la cantidad a un orden de magnitud mayor, es decir a 1000, el resultado se vuelve 0,\n",
    "# por el efecto de underflow, lo cual se muestra en el siguiente ejemplo:\n",
    "\n",
    "n = 1000 # Tamaño de la muestra\n",
    "\n",
    "# Muestra Gaussina con n = 100, µ1 = 177 y σ1 = 1, evaluada con µ1 = 176 y σ1 = 3\n",
    "muestras = muestra_gauss(177, 1, n, 9, 0)\n",
    "mean = 176\n",
    "standev = 3\n",
    "resultado = verosimilnorm(muestras, mean, standev)\n",
    "\n",
    "print('\\nEvaluación de la prueba de verosimilitud para diferentes muestras:')\n",
    "print('==================================================================\\n')\n",
    "print(f'Muestra Gaussiana con n = {n}, µ1 = 177 y σ1 = {standev} ')\n",
    "print(f'Evaluada con µ de {mean} y σ de {standev}. Probabilidad: {resultado}')\n",
    "print('------------------------------------------------------------------\\n')\n",
    "\n",
    "# Muestra Uniforme con n = 100, entre 170 y 180, evaluada con µ1 = 176 y σ1 = 3\n",
    "muestras = muestra_uniforme(170, 180, n, 9, 0)\n",
    "mean = 176\n",
    "standev = 3\n",
    "resultado = verosimilnorm(muestras, mean, standev)\n",
    "\n",
    "print(f'Muestra Uniforme con n = {n}, entre 170 y 180')\n",
    "print(f'Evaluada con µ de 176 y σ de 3. Probabilidad: {resultado}')\n",
    "print('------------------------------------------------------------------\\n')\n"
   ]
  },
  {
   "cell_type": "code",
   "execution_count": 5,
   "metadata": {},
   "outputs": [
    {
     "name": "stdout",
     "output_type": "stream",
     "text": [
      "\n",
      "Evaluación de la prueba de verosimilitud para diferentes muestras:\n",
      "==================================================================\n",
      "\n",
      "Muestra Gaussiana con n = 1000, µ1 = 177 y σ1 = 3 \n",
      "Evaluada con µ de 176 y σ de 3. Probabilidad: 0.007421653690168392\n",
      "------------------------------------------------------------------\n",
      "\n",
      "Muestra Uniforme con n = 1000, entre 170 y 180\n",
      "Evaluada con µ de 176 y σ de 3. Probabilidad: 0.002527282845635352\n",
      "------------------------------------------------------------------\n",
      "\n"
     ]
    }
   ],
   "source": [
    "# ¿Cual sería una forma de solucionar este problema? Programe una función con la posible solución\n",
    "# y anote como comentarios las respuestas a las dos preguntas anteriores.\n",
    "\n",
    "# R/ Como posible solución, y de acuerdo con lo visto en clase, se puede aplicar logaritmos, los cuales\n",
    "# por sus propiedades permiten convertir una multiplicación en una sumatoria. Por lo en la siguiente\n",
    "# fórmula se ha sustituido la multiplicación por la suma de logaritmos base 10 (log) y el total de toda\n",
    "# la sumatoria se reversa elevando 10 utilizando el resultado de la sumatoria como exponente (logx = 10**x).\n",
    "\n",
    "def verosimilnorm(sample: list, mean, standev):\n",
    "    n = len(sample)\n",
    "    productoria = 0.0\n",
    "    np.arange(productoria, dtype=np.float16)\n",
    "    for i in range(n):\n",
    "        if i == 0:\n",
    "            productoria = np.log(stats.norm.pdf(sample[0], loc=mean, scale=standev))\n",
    "        productoria += np.log(stats.norm.pdf(sample[i], loc=mean, scale=standev))\n",
    "    resultado = productoria / n\n",
    "    resultado = 10 ** resultado # Para reversar el logaritmo y dejar los valores en términos de probabilidad\n",
    "    return resultado\n",
    "\n",
    "n = 1000 # Tamaño de la muestra\n",
    "\n",
    "# Muestra Gaussina con n = 100, µ1 = 177 y σ1 = 1, evaluada con µ1 = 176 y σ1 = 3\n",
    "muestras = muestra_gauss(177, 1, n, 9, 0)\n",
    "mean = 176\n",
    "standev = 3\n",
    "resultado = verosimilnorm(muestras, mean, standev)\n",
    "\n",
    "print('\\nEvaluación de la prueba de verosimilitud para diferentes muestras:')\n",
    "print('==================================================================\\n')\n",
    "print(f'Muestra Gaussiana con n = {n}, µ1 = 177 y σ1 = {standev} ')\n",
    "print(f'Evaluada con µ de {mean} y σ de {standev}. Probabilidad: {resultado}')\n",
    "print('------------------------------------------------------------------\\n')\n",
    "\n",
    "# Muestra Uniforme con n = 100, entre 170 y 180, evaluada con µ1 = 176 y σ1 = 3\n",
    "muestras = muestra_uniforme(170, 180, n, 9, 0)\n",
    "mean = 176\n",
    "standev = 3\n",
    "resultado = verosimilnorm(muestras, mean, standev)\n",
    "\n",
    "print(f'Muestra Uniforme con n = {n}, entre 170 y 180')\n",
    "print(f'Evaluada con µ de 176 y σ de 3. Probabilidad: {resultado}')\n",
    "print('------------------------------------------------------------------\\n')"
   ]
  },
  {
   "cell_type": "markdown",
   "metadata": {},
   "source": [
    "##### R/ Como puede verse, con el uso de logaritmos en la función, para sustituir la multiplicación por la suma, se obtiene como resultado (después de reversar el efecto del logaritmo en la sumatoria total) un valor de probabilidad de verosimilitud que ya no aparece afectado por el underflow."
   ]
  },
  {
   "cell_type": "markdown",
   "metadata": {},
   "source": [
    "\n",
    "4. Implemente una función para determinar los valores óptimos para maximizar la función de verosimilitud normal, según teoría vista en clase. Suponga que la cantidad de observaciones (N) siempre es alta. Igualmente se espera que se provean ejemplos en el código para mostrar el correcto funcionamiento (10 puntos)"
   ]
  },
  {
   "cell_type": "markdown",
   "metadata": {},
   "source": [
    "##### Las fórmulas para obtener los valores óptimos para maximas la función de verosimilitud normal son:\n",
    "\n",
    "#### Media $\\mu$\n",
    "\\begin{equation}\n",
    "\\mu=\\frac{1}{M}\\left(\\sum_{n=1}^{M}h_{n}\\right)\n",
    "\\end{equation}\n",
    "\n",
    "#### Varianza $\\sigma^{2}$ \n",
    "\\begin{equation}\n",
    "\\sigma^{2}=\\frac{1}{M}\\sum_{n=1}^{M}\\left(h_{n}-\\mu\\right)^{2}\n",
    "\\end{equation}\n"
   ]
  },
  {
   "cell_type": "code",
   "execution_count": 46,
   "metadata": {},
   "outputs": [
    {
     "name": "stdout",
     "output_type": "stream",
     "text": [
      "El valor de µ óptimo es: 177.08074665469616\n",
      "El valor de σ2 óptimo es: 9.673806311540815\n",
      "[177.08074665469616, 9.673806311540815]\n"
     ]
    }
   ],
   "source": [
    "# Función para determinar los valores óptimos de la función de verosimilitud\n",
    "# ===================================================================================\n",
    "\n",
    "%matplotlib inline \n",
    "import numpy as np\n",
    "import matplotlib.pyplot as plt\n",
    "\n",
    "\n",
    "# Primero creo la función para calcular los valores óptimos que maximizan los valores de verosimilitud\n",
    "\n",
    "def optimos(muestra: list):\n",
    "    # Calcula los valores óptimos de µ y σ2 para maximas la función de verosimilitud normal \n",
    "    media = 0.0\n",
    "    varianza = 0.0\n",
    "    n = 0\n",
    "    sumatoria = 0.0\n",
    "    \n",
    "    # Media µ\n",
    "    for i in range(len(muestra)):\n",
    "        n += 1\n",
    "        sumatoria += muestra[i]\n",
    "    media = sumatoria / n\n",
    "    print(f'El valor de µ óptimo es: {media}')\n",
    "    \n",
    "    n = 0\n",
    "    sumatoria = 0.0\n",
    "    # Varianza σ2\n",
    "    for i in range(len(muestra)):\n",
    "        n += 1\n",
    "        sumatoria += (muestra[i] - media) ** 2\n",
    "    varianza = sumatoria / n\n",
    "    print(f'El valor de σ2 óptimo es: {varianza}')\n",
    "    return [media, varianza]\n",
    "\n",
    "\n",
    "# Se genera la muestra gaussiana con la fórmula anteriormente creada, con N = 1000, µ1 = 177 y σ1 = 3:\n",
    "muestra = muestra_gauss(177, 3, 1000, 9, 0)\n",
    "\n",
    "# Por último aplicamos la función de valores óptimos a la muestra antes creada\n",
    "optimos = optimos(muestra)\n",
    "print(optimos)\n",
    "   "
   ]
  },
  {
   "cell_type": "code",
   "execution_count": 48,
   "metadata": {},
   "outputs": [
    {
     "name": "stdout",
     "output_type": "stream",
     "text": [
      "El valor de µ óptimo es: 176.979551266486\n",
      "El valor de σ2 óptimo es: 8.489282712324906\n",
      "<class 'numpy.float64'>\n",
      "8.489282712324906\n"
     ]
    }
   ],
   "source": [
    "%matplotlib inline \n",
    "import numpy as np\n",
    "import matplotlib.pyplot as plt\n",
    "\n",
    "\n",
    "# Primero creo la función para calcular los valores óptimos que maximizan la función de verosimilitud\n",
    "\n",
    "def optimos(muestra: list):\n",
    "    # Calcula los valores óptimos de µ y σ2 para maximas la función de verosimilitud normal \n",
    "    media = 0.0\n",
    "    varianza = 0.0\n",
    "    n = 0\n",
    "    sumatoria = 0.0\n",
    "    \n",
    "    # Media µ\n",
    "    for i in range(len(muestra)):\n",
    "        n += 1\n",
    "        sumatoria += muestra[i]\n",
    "    media = sumatoria / n\n",
    "    print(f'El valor de µ óptimo es: {media}')\n",
    "    \n",
    "    n = 0\n",
    "    sumatoria = 0.0\n",
    "    # Varianza σ2\n",
    "    for i in range(len(muestra)):\n",
    "        n += 1\n",
    "        sumatoria += (muestra[i] - media) ** 2\n",
    "    varianza = sumatoria / n\n",
    "    print(f'El valor de σ2 óptimo es: {varianza}')\n",
    "    return varianza\n",
    "\n",
    "\n",
    "# Se genera la muestra gaussiana con la fórmula anteriormente creada, con N = 1000, µ1 = 177 y σ1 = 3:\n",
    "muestra = muestra_gauss(177, 3, 1000, 9, 0)\n",
    "\n",
    "# Por último aplicamos la función de valores óptimos a la muestra antes creada\n",
    "optimos = optimos(muestra)\n",
    "print(type(optimos))\n",
    "print(optimos)"
   ]
  },
  {
   "cell_type": "markdown",
   "metadata": {},
   "source": [
    "5. Genere 10000 muestras de 30 observaciones cada una  provenientes de una distribución normal con $\\mu=170$ y $\\sigma=1$. Calcule el valor óptimo de la varianza para maximizar la función de verosimilitud normal de cada muestra (estimador de la varianza sesgado) y luego obtenga el valor esperado de la varianza (promedio sobre las 10000 muestras). Compare este valor esperado con el valor  de varianza usado para generar las muestras ($\\sigma^{2}=1$)  . Ejecute varias veces su código y responda ¿El valor esperado de la varianza aproxima de manera correcta la varianza original  de la distribución o es necesario hacer alguna corrección en este caso para el cálculo del valor óptimo de la varianza? Justifique su respuesta en ambos casos y explique cual sería la corrección en caso afirmativo (10 puntos)"
   ]
  },
  {
   "cell_type": "code",
   "execution_count": 81,
   "metadata": {},
   "outputs": [
    {
     "name": "stdout",
     "output_type": "stream",
     "text": [
      "El valor esperado de la varianza es: 0.9659822318684599\n"
     ]
    }
   ],
   "source": [
    "# Primero redefino la función para calcular los valores óptimos para que retorne sólo la varianza\n",
    "\n",
    "def optimos(muestra: list):\n",
    "    # Calcula los valores óptimos de µ y σ2 para maximas la función de verosimilitud normal \n",
    "    media = 0.0\n",
    "    varianza = 0.0\n",
    "    n = 0\n",
    "    sumatoria = 0.0\n",
    "    \n",
    "    # Media µ\n",
    "    for i in range(len(muestra)):\n",
    "        n += 1\n",
    "        sumatoria += muestra[i]\n",
    "    media = sumatoria / n\n",
    "    # print(f'El valor de µ óptimo es: {media}')\n",
    "    \n",
    "    n = 0\n",
    "    sumatoria = 0.0\n",
    "    # Varianza σ2\n",
    "    for i in range(len(muestra)):\n",
    "        n += 1\n",
    "        sumatoria += (muestra[i] - media) ** 2\n",
    "    varianza = sumatoria / n\n",
    "    # print(f'El valor de σ2 óptimo es: {varianza}')\n",
    "    return varianza # Retorna la varianza óptima\n",
    "\n",
    "muestra = []\n",
    "muestras = [] # Arreglo para almacenar el conjunto de las muestras generadas\n",
    "varianza = 0.0\n",
    "vars_opt = [] # Arreglo de las varianzas óptimas para cada muestra\n",
    "sumatoria = 0.0\n",
    "n_muestras = 10000 # Cantidad de muestras\n",
    "n_observaciones = 30  # Cantidad de observaciones por muestra\n",
    "\n",
    "for i in range(n_muestras):\n",
    "    muestra = muestra_gauss(170, 1, n_observaciones, 9, 0)\n",
    "    # print(muestra)\n",
    "    muestras.append(muestra)\n",
    "    varianza = optimos(muestras[i])\n",
    "    vars_opt.append(varianza)\n",
    "    sumatoria += varianza\n",
    "\n",
    "val_esperado = sumatoria / n_muestras\n",
    "\n",
    "print(f'El valor esperado de la varianza es: {val_esperado}')"
   ]
  },
  {
   "cell_type": "markdown",
   "metadata": {},
   "source": [
    "¿El valor esperado de la varianza aproxima de manera correcta la varianza original de la distribución o es necesario hacer alguna corrección en este caso para el cálculo del valor óptimo de la varianza?\n",
    "\n",
    "R/ Como puede verse en el cálculo, el valor esperado de la varianza, para 10000 muestras de 30 observaciones cada una,  resulta en 0.9659, por lo que no da exacto en el valor de 1; de acuerdo con lo visto en clase, esto se debe a que, tanto el cálculo del valor óptimo de las varianzas como el valor esperado muestral se están calculando de forma sesgada, es decir, tomando el factor (1 / M) por lo que a continuación se probará el mismo cálculo pero utilizando el factor no sesgado, es decir (1 / (M-1))\n"
   ]
  },
  {
   "cell_type": "code",
   "execution_count": 83,
   "metadata": {},
   "outputs": [
    {
     "name": "stdout",
     "output_type": "stream",
     "text": [
      "El valor esperado de la varianza es: 1.000638187349065\n"
     ]
    }
   ],
   "source": [
    "# Se vuelve a modificar la función para calcular el valor óptimo de la varianza pero utilizando el factor no sesgado\n",
    "# es decir de 1/(M-1)\n",
    "\n",
    "def optimos(muestra: list):\n",
    "    # Calcula los valores óptimos de µ y σ2 para maximas la función de verosimilitud normal \n",
    "    media = 0.0\n",
    "    varianza = 0.0\n",
    "    n = 0\n",
    "    sumatoria = 0.0\n",
    "    \n",
    "    # Media µ\n",
    "    for i in range(len(muestra)):\n",
    "        n += 1\n",
    "        sumatoria += muestra[i]\n",
    "    media = sumatoria / n\n",
    "    # print(f'El valor de µ óptimo es: {media}')\n",
    "    \n",
    "    n = 0\n",
    "    sumatoria = 0.0\n",
    "    # Varianza σ2\n",
    "    for i in range(len(muestra)):\n",
    "        n += 1\n",
    "        sumatoria += (muestra[i] - media) ** 2\n",
    "    varianza = sumatoria / (n-1)\n",
    "    # print(f'El valor de σ2 óptimo es: {varianza}')\n",
    "    return varianza # Retorna la varianza óptima\n",
    "\n",
    "muestra = []\n",
    "muestras = [] # Arreglo para almacenar el conjunto de las muestras generadas\n",
    "varianza = 0.0\n",
    "vars_opt = [] # Arreglo de las varianzas óptimas para cada muestra\n",
    "sumatoria = 0.0\n",
    "n_muestras = 10000 # Cantidad de muestras\n",
    "n_observaciones = 30  # Cantidad de observaciones por muestra\n",
    "\n",
    "for i in range(n_muestras):\n",
    "    muestra = muestra_gauss(170, 1, n_observaciones, 9, 0)\n",
    "    # print(muestra)\n",
    "    muestras.append(muestra)\n",
    "    varianza = optimos(muestras[i])\n",
    "    vars_opt.append(varianza)\n",
    "    sumatoria += varianza\n",
    "\n",
    "val_esperado = sumatoria / (n_muestras-1)\n",
    "\n",
    "print(f'El valor esperado de la varianza es: {val_esperado}')"
   ]
  },
  {
   "cell_type": "markdown",
   "metadata": {},
   "source": [
    "##### Como puede verse, con el ajuste de incluir el factor no sesgado,  ahora el resultado del cálculo del valor esperado de la varianza es de 1"
   ]
  },
  {
   "cell_type": "code",
   "execution_count": null,
   "metadata": {},
   "outputs": [],
   "source": []
  }
 ],
 "metadata": {
  "colab": {
   "collapsed_sections": [],
   "name": "Tarea1_EstadisticaParaCienciaDeLosDatos.ipynb",
   "provenance": []
  },
  "kernelspec": {
   "display_name": "Python 3 (ipykernel)",
   "language": "python",
   "name": "python3"
  },
  "language_info": {
   "codemirror_mode": {
    "name": "ipython",
    "version": 3
   },
   "file_extension": ".py",
   "mimetype": "text/x-python",
   "name": "python",
   "nbconvert_exporter": "python",
   "pygments_lexer": "ipython3",
   "version": "3.8.8"
  }
 },
 "nbformat": 4,
 "nbformat_minor": 1
}
